{
 "cells": [
  {
   "cell_type": "markdown",
   "id": "1e1266c9",
   "metadata": {},
   "source": [
    "#### 1.Write a python program to sum of the first n positive integers"
   ]
  },
  {
   "cell_type": "code",
   "execution_count": 16,
   "id": "630420fd",
   "metadata": {},
   "outputs": [
    {
     "name": "stdout",
     "output_type": "stream",
     "text": [
      "Enter sum of number : 56\n",
      "1596.0\n"
     ]
    }
   ],
   "source": [
    "number = int(input(\"Enter sum of number : \"))\n",
    "sum_of_number = (number*(number+1)/2)\n",
    "print(sum_of_number)"
   ]
  },
  {
   "cell_type": "markdown",
   "id": "901cf965",
   "metadata": {},
   "source": [
    "#### 2.Write a Python program to count occurrences of a substring in a string."
   ]
  },
  {
   "cell_type": "code",
   "execution_count": 17,
   "id": "b1acbaed",
   "metadata": {},
   "outputs": [
    {
     "name": "stdout",
     "output_type": "stream",
     "text": [
      "{'Enter': 1, 'a': 3, 'number': 1, 'to': 1, 'count': 1, 'occurrences': 1, 'of': 1, 'substring': 1, 'in': 1, 'string.': 1}\n"
     ]
    }
   ],
   "source": [
    "sample = \"Enter a number to count occurrences of a substring in a string.\"\n",
    "\n",
    "def occurrence(str1):\n",
    "    str1=str1.split()\n",
    "    sub_dict = {}\n",
    "    for substring in str1:\n",
    "        if substring in sub_dict:\n",
    "            sub_dict[substring]+=1\n",
    "        else:\n",
    "            sub_dict[substring] = 1\n",
    "    return sub_dict\n",
    "print(occurrence(sample))"
   ]
  },
  {
   "cell_type": "markdown",
   "id": "c14a35bb",
   "metadata": {},
   "source": [
    "#### 3.Write a Python program to count the occurrences of each word in a given sentence."
   ]
  },
  {
   "cell_type": "code",
   "execution_count": 18,
   "id": "348aea3b",
   "metadata": {},
   "outputs": [
    {
     "name": "stdout",
     "output_type": "stream",
     "text": [
      "{'Enter': 1, 'a': 2, 'program': 1, 'to': 1, 'count': 1, 'the': 1, 'occurrences': 1, 'of': 1, 'each': 1, 'word': 1, 'in': 1, 'given': 1, 'sentence': 1}\n"
     ]
    }
   ],
   "source": [
    "sample = (\"Enter a program to count the occurrences of each word in a given sentence\")\n",
    "\n",
    "def occurrence_statement(str1):\n",
    "    str1=str1.split()\n",
    "    sub_dict = {}\n",
    "    for word in str1:\n",
    "        if word in sub_dict:\n",
    "            sub_dict[word]+=1\n",
    "        else:\n",
    "            sub_dict[word] = 1\n",
    "    return sub_dict\n",
    "print(occurrence_statement(sample))"
   ]
  },
  {
   "cell_type": "markdown",
   "id": "094f87a4",
   "metadata": {},
   "source": [
    "#### 4.Write a Python program to get a single string from two given strings, separated by a space and swap the first two characters of each string. "
   ]
  },
  {
   "cell_type": "code",
   "execution_count": 9,
   "id": "5a6a0de1",
   "metadata": {},
   "outputs": [
    {
     "name": "stdout",
     "output_type": "stream",
     "text": [
      "enter a string: abcd\n",
      "enter a string 2:wxyz\n",
      "wxcd abyz\n"
     ]
    }
   ],
   "source": [
    "x= input(\"enter a string: \")\n",
    "y = input (\"enter a string 2:\")\n",
    "\n",
    "def swap(x,y):\n",
    "    a = y[:2]+x[2:]\n",
    "    b = x[:2]+y[2:]\n",
    "    return (a + \" \" + b)\n",
    "print(swap(x,y))"
   ]
  },
  {
   "cell_type": "markdown",
   "id": "a42fa50a",
   "metadata": {},
   "source": [
    "#### 5. Write a Python program to add 'ing' at the end of a given string (length should be at least 3).\n",
    "If the given string already ends with 'ing' then add 'ly' instead If the string length of the given string is less than 3, leave it unchanged"
   ]
  },
  {
   "cell_type": "code",
   "execution_count": 27,
   "id": "816fc709",
   "metadata": {},
   "outputs": [
    {
     "name": "stdout",
     "output_type": "stream",
     "text": [
      "enter the character: please\n",
      "pleaseing\n"
     ]
    }
   ],
   "source": [
    "sample = input(\"enter the character: \")\n",
    "def add_ing(sample):\n",
    "    if len(sample) > 3:\n",
    "        if sample[-3:] == \"ing\":\n",
    "            sample += \"ly\"\n",
    "        else:\n",
    "            sample += \"ing\"\n",
    "    return sample\n",
    "print(add_ing(sample))"
   ]
  },
  {
   "cell_type": "markdown",
   "id": "13b091dd",
   "metadata": {},
   "source": [
    "#### 6. Write a Python program to find the first appearance of the substring 'not' and 'poor' from a given string, if 'not' follows the 'poor', replace the whole 'not'...'poor' substring with 'good'. Return the resulting string."
   ]
  },
  {
   "cell_type": "code",
   "execution_count": 38,
   "id": "cce9deda",
   "metadata": {},
   "outputs": [
    {
     "name": "stdout",
     "output_type": "stream",
     "text": [
      " i am good\n"
     ]
    }
   ],
   "source": [
    "def good(sample):\n",
    "    sample_not = sample.find(\"not\")\n",
    "    sample_poor = sample.find(\"poor\")\n",
    "    if sample_poor > sample_not:\n",
    "        result = sample.replace(sample[sample_not:sample_poor + 4], \"good\") \n",
    "    return result\n",
    "\n",
    "sample = \" i am not poor\" \n",
    "print(good(sample))"
   ]
  },
  {
   "cell_type": "markdown",
   "id": "0953174b",
   "metadata": {},
   "source": [
    "#### 7. Write a Python program to find Greatest Common Divisor of two numbers.\n",
    "For example, the GCD of 20 and 28 is 4 and GCD of 98 and 56 is 14"
   ]
  },
  {
   "cell_type": "code",
   "execution_count": 18,
   "id": "b8fe5506",
   "metadata": {},
   "outputs": [
    {
     "data": {
      "text/plain": [
       "9"
      ]
     },
     "execution_count": 18,
     "metadata": {},
     "output_type": "execute_result"
    }
   ],
   "source": [
    "def gcd(a,b):\n",
    "    import math\n",
    "    result=math.gcd(a,b)\n",
    "    return result\n",
    "\n",
    "gcd(45,99)   "
   ]
  },
  {
   "cell_type": "markdown",
   "id": "b018ea71",
   "metadata": {},
   "source": [
    "#### 8. Write a Python program to check whether a list contains a sublist."
   ]
  },
  {
   "cell_type": "code",
   "execution_count": 8,
   "id": "fe39a55f",
   "metadata": {},
   "outputs": [
    {
     "name": "stdout",
     "output_type": "stream",
     "text": [
      "List contain sublist\n"
     ]
    }
   ],
   "source": [
    "def sublist(list_):\n",
    "    for i in list_:\n",
    "        if isinstance(i,list):\n",
    "            print(\"List contain sublist\")\n",
    "        \n",
    "list1=[5,6,11,75,[10,15,12]]\n",
    "sublist(list1)"
   ]
  },
  {
   "cell_type": "markdown",
   "id": "223a8c74",
   "metadata": {},
   "source": [
    "#### 9. Write a Python program to find the second smallest number in a list."
   ]
  },
  {
   "cell_type": "code",
   "execution_count": 9,
   "id": "b2d4d796",
   "metadata": {},
   "outputs": [
    {
     "name": "stdout",
     "output_type": "stream",
     "text": [
      "2\n"
     ]
    }
   ],
   "source": [
    "def _2_nd_smallest_number(list_):\n",
    "    list_.sort()\n",
    "    return list_[1]\n",
    "\n",
    "list1=[5,7,8,6,11,15,178,2,1]\n",
    "print(_2_nd_smallest_number(list1))"
   ]
  },
  {
   "cell_type": "markdown",
   "id": "4c4411cc",
   "metadata": {},
   "source": [
    "#### 10. Write a Python program to get unique values from a list."
   ]
  },
  {
   "cell_type": "code",
   "execution_count": 13,
   "id": "b33e66e5",
   "metadata": {},
   "outputs": [
    {
     "name": "stdout",
     "output_type": "stream",
     "text": [
      "[1, 5, 6, 7, 8, 9, 10, 11, 14, 47]\n"
     ]
    }
   ],
   "source": [
    "def unique_Value(list_):\n",
    "    unique=[]\n",
    "    for x in list_:\n",
    "        if x not in unique:\n",
    "            unique.append(x)\n",
    "    return unique\n",
    "\n",
    "list1=[1,5,7,8,9,6,11,47,11,11,11,10,14]\n",
    "list1.sort()\n",
    "print(unique_Value(list1))"
   ]
  },
  {
   "cell_type": "markdown",
   "id": "1ce5aa2d",
   "metadata": {},
   "source": [
    "#### 11. Write a Python program to unzip a list of tuples into individual lists.\n"
   ]
  },
  {
   "cell_type": "code",
   "execution_count": null,
   "id": "3973f9e9",
   "metadata": {},
   "outputs": [],
   "source": [
    "list1=[(1,5),(2,8),(10,16),(14,20)]\n",
    "print(list(zip(*list1)))"
   ]
  },
  {
   "cell_type": "markdown",
   "id": "a203cb7a",
   "metadata": {},
   "source": [
    "#### 12. Write a Python program to convert a list of tuples into a dictionary\n"
   ]
  },
  {
   "cell_type": "code",
   "execution_count": 15,
   "id": "c54c0a6a",
   "metadata": {},
   "outputs": [
    {
     "name": "stdout",
     "output_type": "stream",
     "text": [
      "{'Virat': 25, 'hilesh': 65}\n"
     ]
    }
   ],
   "source": [
    "def converter(tup,dictn):\n",
    "    dictn = dict(tup)\n",
    "    return dictn\n",
    "\n",
    "list1=[('Virat',25),('hilesh',65)]\n",
    "dict1={}\n",
    "print(converter(list1,dict1))"
   ]
  },
  {
   "cell_type": "markdown",
   "id": "5a27f6c8",
   "metadata": {},
   "source": [
    "#### 13. Write a Python program to sort a dictionary (ascending /descending) by value."
   ]
  },
  {
   "cell_type": "code",
   "execution_count": 16,
   "id": "7a49e6b2",
   "metadata": {},
   "outputs": [
    {
     "name": "stdout",
     "output_type": "stream",
     "text": [
      "{'Chandres': 354, 'mukesh': 654, 'saras': 685, 'Dharam': 786, 'Virat': 988}\n",
      "{'Virat': 988, 'Dharam': 786, 'saras': 685, 'mukesh': 654, 'Chandres': 354}\n"
     ]
    }
   ],
   "source": [
    "def dict_sort_a(dict1):\n",
    "    dict1=list(dict1.items())\n",
    "    dict1=[i[::-1] for i in dict1]\n",
    "    dict1.sort()\n",
    "    dict1=[i[::-1] for i in dict1]\n",
    "    return dict(dict1)\n",
    "\n",
    "def dict_sort_d(dict1):\n",
    "    dict1=list(dict1.items())\n",
    "    dict1=[i[::-1] for i in dict1]\n",
    "    dict1.sort(reverse=True)\n",
    "    dict1=[i[::-1] for i in dict1]\n",
    "    return dict(dict1)\n",
    "\n",
    "sample={'Virat':988,'mukesh':654,'Chandres':354,'Dharam':786,'saras':685}\n",
    "\n",
    "print(dict_sort_a(sample))\n",
    "\n",
    "print(dict_sort_d(sample))"
   ]
  },
  {
   "cell_type": "markdown",
   "id": "f7c53e5f",
   "metadata": {},
   "source": [
    "#### 14. Write a Python program to find the highest 3 values in a dictionary."
   ]
  },
  {
   "cell_type": "code",
   "execution_count": 21,
   "id": "524f8606",
   "metadata": {},
   "outputs": [
    {
     "name": "stdout",
     "output_type": "stream",
     "text": [
      "Virat:988\n",
      "Dharam:786\n",
      "saras:685\n"
     ]
    }
   ],
   "source": [
    "def Highest_3_values(dict1):\n",
    "    val=list(dict1.values())\n",
    "    val.sort(reverse=True)\n",
    "    val=val[:3]\n",
    "    for i in val:\n",
    "        for j in dict1.keys():\n",
    "            if (dict1[j]==i):\n",
    "                print(str(j)+\":\"+str(dict1[j]))\n",
    "                \n",
    "sample={'Virat':988,'mukesh':654,'Chandres':354,'Dharam':786,'saras':685}\n",
    "Highest_3_values(sample)  "
   ]
  },
  {
   "cell_type": "markdown",
   "id": "88ded798",
   "metadata": {},
   "source": [
    "#### 15. Given a number n, write a python program to make and print the list of Fibonacci series up to n. \n",
    "* Input : n=7 \n",
    "* Hint : first 7 numbers in the series \n",
    "* Expected output : First few Fibonacci numbers are 0, 1, 1, 2, 3, 5, 8, 13"
   ]
  },
  {
   "cell_type": "code",
   "execution_count": 26,
   "id": "47399e85",
   "metadata": {},
   "outputs": [
    {
     "name": "stdout",
     "output_type": "stream",
     "text": [
      "Fibonacci series: 0 1 1 2 3 5 8 13 21 34 55 89 144 233 377 610 987 1597 2584 4181 6765 10946 17711 28657 46368 75025 121393 "
     ]
    }
   ],
   "source": [
    "def fibonacci(val):\n",
    "    n1 = 0 ; n2=1\n",
    "    if val == 1:\n",
    "        return n2\n",
    "    elif val == 0:\n",
    "        return n1\n",
    "    print('Fibonacci series:',n1,n2,end=\" \")\n",
    "    for i in range(val):\n",
    "        n = n1 + n2\n",
    "        n1 = n2\n",
    "        n2 = n\n",
    "        print(n, end=\" \")\n",
    "            \n",
    "fibonacci(25)"
   ]
  },
  {
   "cell_type": "markdown",
   "id": "1deed632",
   "metadata": {},
   "source": [
    "#### 16. Counting the frequencies in a list using a dictionary in Python.\n",
    "* Input : [1, 1, 1, 5, 5, 3, 1, 3, 3, 1,4, 4, 4, 2, 2, 2, 2]\n",
    "* Expected output : 1 : 5 , 2 : 4 , 3 : 3 , 4 : 3 , 5 : 2"
   ]
  },
  {
   "cell_type": "code",
   "execution_count": null,
   "id": "056d0112",
   "metadata": {},
   "outputs": [],
   "source": [
    "def freqencies(list_):\n",
    "    dict1={}\n",
    "    for i in list_:\n",
    "        if i in dict1:\n",
    "            dict1[i] += 1\n",
    "        else:\n",
    "            dict1[i] == 1\n",
    "     \n",
    "    return dict1\n",
    "\n",
    "list1=[1, 1, 1, 5, 5, 3, 1, 3, 3, 1, 4, 4, 4, 2, 2, 2, 2]\n",
    "print(freqencies(list1))"
   ]
  },
  {
   "cell_type": "markdown",
   "id": "a74c335d",
   "metadata": {},
   "source": [
    "#### 17. Write a python program using function to find the sum of odd series and even series.\n",
    "* Odd series: 1/ 1! + 9/ 3! + 25/ 5!+……(n*n)/n!\n",
    "* Even series: 2/ 2! + 16/ 4! + 36/ 6!+……(n*n)/n!\n"
   ]
  },
  {
   "cell_type": "code",
   "execution_count": 14,
   "id": "27a8d17f",
   "metadata": {},
   "outputs": [
    {
     "name": "stdout",
     "output_type": "stream",
     "text": [
      "2.7182818284590455\n",
      "2.7182818284590446\n"
     ]
    }
   ],
   "source": [
    "def n_factorial(num):\n",
    "    factorial = 1\n",
    "    if num < 0:\n",
    "        print(\"sorry, negative number is not exist in factorial!!\")\n",
    "    elif num == 0:\n",
    "        print(\"factorial of 0 is 1!!\")\n",
    "    else:\n",
    "        for i in range(1, num + 1):\n",
    "            factorial = factorial * i\n",
    "        return factorial\n",
    "    \n",
    "def odd_Number_Sum(num):\n",
    "    result = 0\n",
    "    for val in range(1, num, 2):\n",
    "        result += (val*val)/n_factorial(val)\n",
    "    return result\n",
    "\n",
    "def even_Number_Sum(num):\n",
    "    result = 0\n",
    "    for E in range(2, num, 2):\n",
    "        result += (E*E)/n_factorial(E)\n",
    "    return result\n",
    "\n",
    "print(odd_Number_Sum(50))\n",
    "print(even_Number_Sum(98))        "
   ]
  },
  {
   "cell_type": "markdown",
   "id": "17977c42",
   "metadata": {},
   "source": [
    "#### 18. Write a Python Program to Find Factorial of Number Using Recursion."
   ]
  },
  {
   "cell_type": "code",
   "execution_count": 15,
   "id": "c24780f5",
   "metadata": {},
   "outputs": [
    {
     "data": {
      "text/plain": [
       "24"
      ]
     },
     "execution_count": 15,
     "metadata": {},
     "output_type": "execute_result"
    }
   ],
   "source": [
    "def recursion(val):\n",
    "    if val == 0:\n",
    "        return 1\n",
    "    else:\n",
    "        return val * recursion(val-1)\n",
    "recursion(4)"
   ]
  },
  {
   "cell_type": "markdown",
   "id": "3549fffe",
   "metadata": {},
   "source": [
    "#### 19. Write a Python function that takes a list and returns a new list with unique elements of the first list."
   ]
  },
  {
   "cell_type": "code",
   "execution_count": 33,
   "id": "071a0262",
   "metadata": {},
   "outputs": [
    {
     "name": "stdout",
     "output_type": "stream",
     "text": [
      "[1, 2, 3, 4, 5, 6, 7, 8, 45, 47, 8877]\n"
     ]
    }
   ],
   "source": [
    "def unique_Element(list_):\n",
    "    unique=[]\n",
    "    for x in list_:\n",
    "        if x not in unique:\n",
    "            unique.append(x)\n",
    "    return unique\n",
    "\n",
    "list1=[45,8877,7,8,45,4,8,6,3,1,1,1,4,7,5,1,2,3,5,47,]\n",
    "list1.sort()\n",
    "print(unique_Element(list1))"
   ]
  },
  {
   "cell_type": "markdown",
   "id": "db52bc86",
   "metadata": {},
   "source": [
    "### 20. Mini project : \n",
    "#### Problem Statement : Password Generator\n",
    "* Make a program to generate a strong password using the input given by the user. To generate a password,randomly take some words from the user input and then include numbers, special characters and capital letters to generate the password. Also, keep a check that password length is more than 8 characters.\n",
    "* Note: Include Exception handling wherever required. Also, make a ‘User’ class and store the details like user id, name and password of each user as a tuple. "
   ]
  },
  {
   "cell_type": "code",
   "execution_count": 3,
   "id": "03b6cf48",
   "metadata": {},
   "outputs": [],
   "source": [
    "class user:\n",
    "    def __init__(self,userid,name,password):\n",
    "        self.userid = userid\n",
    "        self.name = name\n",
    "        self.password=user.strongpassword()\n",
    "        \n",
    "    @classmethod    \n",
    "    def strongpassword(password):\n",
    "        import string\n",
    "        DIGITS = string.digits\n",
    "        SYMBOLS = string.punctuation\n",
    "        word_u= string.ascii_uppercase\n",
    "        word_l= string.ascii_lowercase\n",
    "        combine = DIGITS+SYMBOLS+word_u+ word_l\n",
    "        import random\n",
    "        random_digits = random.choice(DIGITS)\n",
    "        random_Symbol = random.choice(SYMBOLS)\n",
    "        random_Word_u = random.choice(word_u)\n",
    "        random_word_L = random.choice(word_l)\n",
    "        strpass = random_digits+random_Symbol+random_Word_u+random_word_L\n",
    "        for x in range(0,8):\n",
    "            string_pass = string_pass + random.choice(combine)\n",
    "        if len(string_pass) == 8:\n",
    "            print(string_pass)\n",
    "        else:\n",
    "            string_pass = string_pass[0:8]\n",
    "        print(string_pass)\n"
   ]
  },
  {
   "cell_type": "code",
   "execution_count": null,
   "id": "e81f9990",
   "metadata": {},
   "outputs": [],
   "source": []
  }
 ],
 "metadata": {
  "kernelspec": {
   "display_name": "Python 3 (ipykernel)",
   "language": "python",
   "name": "python3"
  },
  "language_info": {
   "codemirror_mode": {
    "name": "ipython",
    "version": 3
   },
   "file_extension": ".py",
   "mimetype": "text/x-python",
   "name": "python",
   "nbconvert_exporter": "python",
   "pygments_lexer": "ipython3",
   "version": "3.9.13"
  }
 },
 "nbformat": 4,
 "nbformat_minor": 5
}
